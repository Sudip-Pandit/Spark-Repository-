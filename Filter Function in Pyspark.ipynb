{
 "cells": [
  {
   "cell_type": "code",
   "execution_count": null,
   "id": "f65e8b9f",
   "metadata": {},
   "outputs": [],
   "source": [
    "# data source: we can get the data from this link \n",
    "# https://www.kaggle.com/fireballbyedimyrnmom/us-counties-covid-19-dataset "
   ]
  },
  {
   "cell_type": "code",
   "execution_count": 40,
   "id": "d7daecd6",
   "metadata": {},
   "outputs": [],
   "source": [
    "import findspark\n",
    "findspark.init()\n",
    "from pyspark.sql import SparkSession,types\n",
    "spark = SparkSession.builder.master(\"local\").appName(\"Data Analysis of COVID-19\")\\\n",
    "        .getOrCreate()"
   ]
  },
  {
   "cell_type": "code",
   "execution_count": 41,
   "id": "7db05493",
   "metadata": {},
   "outputs": [],
   "source": [
    "sc=spark.sparkContext"
   ]
  },
  {
   "cell_type": "code",
   "execution_count": 43,
   "id": "c9e76f7b",
   "metadata": {},
   "outputs": [],
   "source": [
    "# load the dataset in dataframe\n",
    "df = spark.read.csv(\"file:///home/su-1223/Downloads/archive/us-counties.csv\",header=True)"
   ]
  },
  {
   "cell_type": "code",
   "execution_count": 61,
   "id": "7ee93877",
   "metadata": {},
   "outputs": [
    {
     "name": "stdout",
     "output_type": "stream",
     "text": [
      "+----------+---------+----------+-----+-----+------+\n",
      "|      date|   county|     state| fips|cases|deaths|\n",
      "+----------+---------+----------+-----+-----+------+\n",
      "|2020-01-21|Snohomish|Washington|53061|    1|     0|\n",
      "|2020-01-22|Snohomish|Washington|53061|    1|     0|\n",
      "|2020-01-23|Snohomish|Washington|53061|    1|     0|\n",
      "+----------+---------+----------+-----+-----+------+\n",
      "only showing top 3 rows\n",
      "\n"
     ]
    }
   ],
   "source": [
    "df.show(3)"
   ]
  },
  {
   "cell_type": "code",
   "execution_count": 45,
   "id": "1c086124",
   "metadata": {},
   "outputs": [
    {
     "data": {
      "text/plain": [
       "[('date', 'string'),\n",
       " ('county', 'string'),\n",
       " ('state', 'string'),\n",
       " ('fips', 'string'),\n",
       " ('cases', 'string'),\n",
       " ('deaths', 'string')]"
      ]
     },
     "execution_count": 45,
     "metadata": {},
     "output_type": "execute_result"
    }
   ],
   "source": [
    "df.dtypes"
   ]
  },
  {
   "cell_type": "code",
   "execution_count": 46,
   "id": "2a29b970",
   "metadata": {},
   "outputs": [],
   "source": [
    "from pyspark import SparkContext\n",
    "from pyspark.sql import SQLContext"
   ]
  },
  {
   "cell_type": "code",
   "execution_count": 47,
   "id": "dcc305c7",
   "metadata": {},
   "outputs": [
    {
     "data": {
      "text/plain": [
       "pyspark.sql.context.SQLContext"
      ]
     },
     "execution_count": 47,
     "metadata": {},
     "output_type": "execute_result"
    }
   ],
   "source": [
    "SQLContext"
   ]
  },
  {
   "cell_type": "code",
   "execution_count": 48,
   "id": "79ec40ab",
   "metadata": {},
   "outputs": [],
   "source": [
    "import pyspark.sql.functions as F"
   ]
  },
  {
   "cell_type": "code",
   "execution_count": 49,
   "id": "c0b12ba8",
   "metadata": {},
   "outputs": [],
   "source": [
    "# How to print the latest date\n",
    "# let's print the latest date\n",
    "latest_date = df.agg(F.max('date').alias('max_date'))"
   ]
  },
  {
   "cell_type": "code",
   "execution_count": 50,
   "id": "7de26627",
   "metadata": {},
   "outputs": [
    {
     "name": "stdout",
     "output_type": "stream",
     "text": [
      "+----------+\n",
      "|  max_date|\n",
      "+----------+\n",
      "|2021-06-26|\n",
      "+----------+\n",
      "\n"
     ]
    }
   ],
   "source": [
    "# How to find the latest date of covid case entry in this data frame?\n",
    "latest_date.show()"
   ]
  },
  {
   "cell_type": "code",
   "execution_count": 51,
   "id": "728749e4",
   "metadata": {},
   "outputs": [],
   "source": [
    "latest_date=latest_date.collect()"
   ]
  },
  {
   "cell_type": "code",
   "execution_count": 52,
   "id": "78d7a123",
   "metadata": {},
   "outputs": [
    {
     "data": {
      "text/plain": [
       "Row(max_date='2021-06-26')"
      ]
     },
     "execution_count": 52,
     "metadata": {},
     "output_type": "execute_result"
    }
   ],
   "source": [
    "latest_date[0]"
   ]
  },
  {
   "cell_type": "code",
   "execution_count": 53,
   "id": "8998da1f",
   "metadata": {},
   "outputs": [
    {
     "data": {
      "text/plain": [
       "'2021-06-26'"
      ]
     },
     "execution_count": 53,
     "metadata": {},
     "output_type": "execute_result"
    }
   ],
   "source": [
    "latest_date[0]['max_date']"
   ]
  },
  {
   "cell_type": "code",
   "execution_count": 54,
   "id": "bc696d3b",
   "metadata": {},
   "outputs": [
    {
     "data": {
      "text/plain": [
       "1459353"
      ]
     },
     "execution_count": 54,
     "metadata": {},
     "output_type": "execute_result"
    }
   ],
   "source": [
    "# How many records does this dataset has?\n",
    "df.count()"
   ]
  },
  {
   "cell_type": "markdown",
   "id": "ef48abfe",
   "metadata": {},
   "source": [
    "### Filter in Pyspark"
   ]
  },
  {
   "cell_type": "code",
   "execution_count": 55,
   "id": "23596cfd",
   "metadata": {},
   "outputs": [],
   "source": [
    "# How many cases in state Washington?\n",
    "df_filtered =df.filter(df.county=='Washington')"
   ]
  },
  {
   "cell_type": "code",
   "execution_count": 62,
   "id": "b374c3b9",
   "metadata": {},
   "outputs": [
    {
     "name": "stdout",
     "output_type": "stream",
     "text": [
      "+----------+----------+------+-----+-----+------+\n",
      "|      date|    county| state| fips|cases|deaths|\n",
      "+----------+----------+------+-----+-----+------+\n",
      "|2020-02-28|Washington|Oregon|41067|    1|     0|\n",
      "|2020-02-29|Washington|Oregon|41067|    1|     0|\n",
      "|2020-03-01|Washington|Oregon|41067|    2|     0|\n",
      "+----------+----------+------+-----+-----+------+\n",
      "only showing top 3 rows\n",
      "\n"
     ]
    }
   ],
   "source": [
    "df_filtered.show(3)"
   ]
  },
  {
   "cell_type": "code",
   "execution_count": 63,
   "id": "7b63d444",
   "metadata": {},
   "outputs": [
    {
     "name": "stdout",
     "output_type": "stream",
     "text": [
      "+----------+-------+--------+-----+-----+------+\n",
      "|      date| county|   state| fips|cases|deaths|\n",
      "+----------+-------+--------+-----+-----+------+\n",
      "|2020-02-17|Douglas|Nebraska|31055|   10|     0|\n",
      "|2020-02-18|Douglas|Nebraska|31055|   10|     0|\n",
      "|2020-02-19|Douglas|Nebraska|31055|   10|     0|\n",
      "|2020-02-24|  Bexar|   Texas|48029|   10|     0|\n",
      "+----------+-------+--------+-----+-----+------+\n",
      "only showing top 4 rows\n",
      "\n"
     ]
    }
   ],
   "source": [
    "df_filtered_cases =df.filter(df.cases=='10').show(4)"
   ]
  },
  {
   "cell_type": "code",
   "execution_count": 58,
   "id": "b18e0344",
   "metadata": {},
   "outputs": [],
   "source": [
    "#How to perform filter operations oer multiple columns?"
   ]
  },
  {
   "cell_type": "code",
   "execution_count": 64,
   "id": "fadcd258",
   "metadata": {},
   "outputs": [
    {
     "name": "stdout",
     "output_type": "stream",
     "text": [
      "+----------+------+--------+-----+-----+------+\n",
      "|      date|county|   state| fips|cases|deaths|\n",
      "+----------+------+--------+-----+-----+------+\n",
      "|2020-07-17|Oregon|Missouri|29149|   10|     0|\n",
      "|2020-07-18|Oregon|Missouri|29149|   10|     0|\n",
      "+----------+------+--------+-----+-----+------+\n",
      "only showing top 2 rows\n",
      "\n"
     ]
    }
   ],
   "source": [
    "df_filtered_two_columns=df.filter(\"county=='Oregon' and cases=='10'\").show(2)"
   ]
  },
  {
   "cell_type": "code",
   "execution_count": 65,
   "id": "03ce30fd",
   "metadata": {},
   "outputs": [
    {
     "name": "stdout",
     "output_type": "stream",
     "text": [
      "+----------+-------+--------+-----+-----+------+\n",
      "|      date| county|   state| fips|cases|deaths|\n",
      "+----------+-------+--------+-----+-----+------+\n",
      "|2020-02-17|Douglas|Nebraska|31055|   10|     0|\n",
      "|2020-02-18|Douglas|Nebraska|31055|   10|     0|\n",
      "|2020-02-19|Douglas|Nebraska|31055|   10|     0|\n",
      "|2020-02-24|  Bexar|   Texas|48029|   10|     0|\n",
      "+----------+-------+--------+-----+-----+------+\n",
      "only showing top 4 rows\n",
      "\n"
     ]
    }
   ],
   "source": [
    "df_filtered_two_columns=df.filter(\"county=='Oregon' or cases=='10'\").show(4)"
   ]
  }
 ],
 "metadata": {
  "kernelspec": {
   "display_name": "Python 3",
   "language": "python",
   "name": "python3"
  },
  "language_info": {
   "codemirror_mode": {
    "name": "ipython",
    "version": 3
   },
   "file_extension": ".py",
   "mimetype": "text/x-python",
   "name": "python",
   "nbconvert_exporter": "python",
   "pygments_lexer": "ipython3",
   "version": "3.8.5"
  }
 },
 "nbformat": 4,
 "nbformat_minor": 5
}
