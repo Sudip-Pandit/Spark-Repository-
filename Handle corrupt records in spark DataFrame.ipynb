{
 "cells": [
  {
   "cell_type": "markdown",
   "id": "6cdf480a",
   "metadata": {},
   "source": [
    "### How to handle corrupt record in spark dataframe?"
   ]
  },
  {
   "cell_type": "code",
   "execution_count": null,
   "id": "8f3edf62",
   "metadata": {},
   "outputs": [],
   "source": [
    "# let us consider a corrupt file which is attached in this directory in name data.csv\n",
    "# We have a several methods to handle the errors/corrupt records from the dataframe\n",
    "# The following are the methods to handle corrupt records:\n",
    "1) PERMISSIVE\n",
    "2)FAILFAST\n",
    "3)DROPMALFORMED\n",
    "\n",
    "# I am using the third method to handle the corrupt data present in my data\n",
    "# You guys can get the dummy dataset used in this repository\n"
   ]
  },
  {
   "cell_type": "code",
   "execution_count": 1,
   "id": "0534ad10",
   "metadata": {},
   "outputs": [],
   "source": [
    "import findspark\n",
    "findspark.init()"
   ]
  },
  {
   "cell_type": "code",
   "execution_count": 2,
   "id": "6307555b",
   "metadata": {},
   "outputs": [],
   "source": [
    "#spark connection and import all required packages \n",
    "from pyspark.sql import SparkSession,types"
   ]
  },
  {
   "cell_type": "code",
   "execution_count": 3,
   "id": "ec9e2f8f",
   "metadata": {},
   "outputs": [],
   "source": [
    "spark = SparkSession.builder.master(\"local\").appName(\"Create DataFrame\").getOrCreate()"
   ]
  },
  {
   "cell_type": "code",
   "execution_count": 4,
   "id": "5db5d162",
   "metadata": {},
   "outputs": [],
   "source": [
    "sc = spark.sparkContext"
   ]
  },
  {
   "cell_type": "code",
   "execution_count": 8,
   "id": "5cbcaefd",
   "metadata": {},
   "outputs": [],
   "source": [
    "# create data frame dataframe\n",
    "df = spark.read.csv(\"file:///home/su-1223/Desktop/data.csv\", header=True)"
   ]
  },
  {
   "cell_type": "code",
   "execution_count": 9,
   "id": "5b5562a2",
   "metadata": {},
   "outputs": [
    {
     "name": "stdout",
     "output_type": "stream",
     "text": [
      "+---------------+--------------------+-------------+\n",
      "|         Emp_no|            Emp_name|   Department|\n",
      "+---------------+--------------------+-------------+\n",
      "|            101|             Murugan|   Healthcare|\n",
      "|  Invalid Entry| Description:Bad ...|         null|\n",
      "|            104|               Kapil|           HR|\n",
      "|            103|                 Rai|      Finance|\n",
      "|Connection lost| Description: Wea...|         null|\n",
      "|            102|               Sujan|    Operation|\n",
      "|   Error Record| Description:Not ...|         null|\n",
      "|            105|               Pavan|       Budget|\n",
      "|            106|             RamHari|     Logistic|\n",
      "|            107|               Suman|Communication|\n",
      "+---------------+--------------------+-------------+\n",
      "\n"
     ]
    }
   ],
   "source": [
    "df.show()"
   ]
  },
  {
   "cell_type": "code",
   "execution_count": 16,
   "id": "b0c883d0",
   "metadata": {},
   "outputs": [],
   "source": [
    "#How to handle those corrupt data present in the above DataFrame?\n",
    "df1 = spark.read.option(\"mode\",\"DROPMALFORMED\").csv('file:///home/su-1223/Desktop/data.csv',header=True)"
   ]
  },
  {
   "cell_type": "code",
   "execution_count": 17,
   "id": "dc890cda",
   "metadata": {},
   "outputs": [
    {
     "name": "stdout",
     "output_type": "stream",
     "text": [
      "+------+--------+-------------+\n",
      "|Emp_no|Emp_name|   Department|\n",
      "+------+--------+-------------+\n",
      "|   101| Murugan|   Healthcare|\n",
      "|   104|   Kapil|           HR|\n",
      "|   103|     Rai|      Finance|\n",
      "|   102|   Sujan|    Operation|\n",
      "|   105|   Pavan|       Budget|\n",
      "|   106| RamHari|     Logistic|\n",
      "|   107|   Suman|Communication|\n",
      "+------+--------+-------------+\n",
      "\n"
     ]
    }
   ],
   "source": [
    "df1.show()"
   ]
  }
 ],
 "metadata": {
  "kernelspec": {
   "display_name": "Python 3",
   "language": "python",
   "name": "python3"
  },
  "language_info": {
   "codemirror_mode": {
    "name": "ipython",
    "version": 3
   },
   "file_extension": ".py",
   "mimetype": "text/x-python",
   "name": "python",
   "nbconvert_exporter": "python",
   "pygments_lexer": "ipython3",
   "version": "3.8.5"
  }
 },
 "nbformat": 4,
 "nbformat_minor": 5
}
