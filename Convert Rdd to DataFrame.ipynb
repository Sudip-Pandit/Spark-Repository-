{
 "cells": [
  {
   "cell_type": "markdown",
   "id": "135f8bb8",
   "metadata": {},
   "source": [
    "### How to create a DataFrame from RDD??"
   ]
  },
  {
   "cell_type": "code",
   "execution_count": 59,
   "id": "cf43802c",
   "metadata": {},
   "outputs": [],
   "source": [
    "#import spark where it is installed\n",
    "import findspark\n",
    "findspark.init()"
   ]
  },
  {
   "cell_type": "code",
   "execution_count": 60,
   "id": "122202aa",
   "metadata": {},
   "outputs": [],
   "source": [
    "# define SparkSession and SparkContext\n",
    "from pyspark.sql import SparkSession\n",
    "spark = SparkSession.builder\\\n",
    "                    .master(\"local\")\\\n",
    "                    .appName(\"define_schema\")\\\n",
    "                    .getOrCreate()"
   ]
  },
  {
   "cell_type": "code",
   "execution_count": 61,
   "id": "42a85b2f",
   "metadata": {},
   "outputs": [],
   "source": [
    "# define sc\n",
    "sc = spark.sparkContext"
   ]
  },
  {
   "cell_type": "code",
   "execution_count": 62,
   "id": "8972b068",
   "metadata": {},
   "outputs": [],
   "source": [
    "#let's create some dummies data\n",
    "empData = [(7389, \"SMITH\", \"CLEARK\", 9902, \"2010-12-17\", 8000.00, 20),\n",
    "            (7499, \"ALLEN\", \"SALESMAN\", 9698, \"2011-02-20\", 9000.00, 30),\n",
    "            (499, \"SUDIP\", \"PANDIT\", 9600, \"2013-02-20\", 9100.00, 40),\n",
    "           (990, \"TIXC\", \"WOODEI\", 9398, \"2013-07-20\", 9010.00, 36),\n",
    "           (499, \"ALLEII\", \"SALES\", 9630, \"2015-07-20\", 9034.00, 90)]"
   ]
  },
  {
   "cell_type": "code",
   "execution_count": 63,
   "id": "b0652ac3",
   "metadata": {},
   "outputs": [],
   "source": [
    "# create a RDD/use a parallelize method to create a rdd\n",
    "empRDD = spark.sparkContext.parallelize(empData)"
   ]
  },
  {
   "cell_type": "code",
   "execution_count": 64,
   "id": "ef5359eb",
   "metadata": {},
   "outputs": [
    {
     "name": "stdout",
     "output_type": "stream",
     "text": [
      "(7389, 'SMITH', 'CLEARK', 9902, '2010-12-17', 8000.0, 20)\n",
      "(7499, 'ALLEN', 'SALESMAN', 9698, '2011-02-20', 9000.0, 30)\n",
      "(499, 'SUDIP', 'PANDIT', 9600, '2013-02-20', 9100.0, 40)\n",
      "(990, 'TIXC', 'WOODEI', 9398, '2013-07-20', 9010.0, 36)\n",
      "(499, 'ALLEII', 'SALES', 9630, '2015-07-20', 9034.0, 90)\n"
     ]
    }
   ],
   "source": [
    "# use loop to create rows of the data\n",
    "for row in empRDD.collect():\n",
    "    print(row)"
   ]
  },
  {
   "cell_type": "code",
   "execution_count": 65,
   "id": "9d8e141a",
   "metadata": {},
   "outputs": [],
   "source": [
    "# create schema for the data\n",
    "cols = [\"emp_id\", \"emp_name\", \"manager_name\", \"manager_id\", \"hire_data\", \"dept_no\"]"
   ]
  },
  {
   "cell_type": "code",
   "execution_count": 66,
   "id": "6cce9da8",
   "metadata": {},
   "outputs": [],
   "source": [
    "# convert rdd to dataframe\n",
    "empDF = empRDD.toDF(cols)"
   ]
  },
  {
   "cell_type": "code",
   "execution_count": 67,
   "id": "4a02ab5b",
   "metadata": {},
   "outputs": [
    {
     "name": "stdout",
     "output_type": "stream",
     "text": [
      "+------+--------+------------+----------+----------+-------+---+\n",
      "|emp_id|emp_name|manager_name|manager_id| hire_data|dept_no| _7|\n",
      "+------+--------+------------+----------+----------+-------+---+\n",
      "|  7389|   SMITH|      CLEARK|      9902|2010-12-17| 8000.0| 20|\n",
      "|  7499|   ALLEN|    SALESMAN|      9698|2011-02-20| 9000.0| 30|\n",
      "|   499|   SUDIP|      PANDIT|      9600|2013-02-20| 9100.0| 40|\n",
      "|   990|    TIXC|      WOODEI|      9398|2013-07-20| 9010.0| 36|\n",
      "|   499|  ALLEII|       SALES|      9630|2015-07-20| 9034.0| 90|\n",
      "+------+--------+------------+----------+----------+-------+---+\n",
      "\n"
     ]
    }
   ],
   "source": [
    "# display in dataframe \n",
    "empDF.show()"
   ]
  },
  {
   "cell_type": "code",
   "execution_count": 68,
   "id": "be6dd0d1",
   "metadata": {},
   "outputs": [],
   "source": [
    "sc.stop()"
   ]
  }
 ],
 "metadata": {
  "kernelspec": {
   "display_name": "Python 3",
   "language": "python",
   "name": "python3"
  },
  "language_info": {
   "codemirror_mode": {
    "name": "ipython",
    "version": 3
   },
   "file_extension": ".py",
   "mimetype": "text/x-python",
   "name": "python",
   "nbconvert_exporter": "python",
   "pygments_lexer": "ipython3",
   "version": "3.8.5"
  }
 },
 "nbformat": 4,
 "nbformat_minor": 5
}
