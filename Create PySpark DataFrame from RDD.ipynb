{
 "cells": [
  {
   "cell_type": "code",
   "execution_count": 46,
   "id": "0534ad10",
   "metadata": {},
   "outputs": [],
   "source": [
    "import findspark\n",
    "findspark.init()"
   ]
  },
  {
   "cell_type": "code",
   "execution_count": 47,
   "id": "6307555b",
   "metadata": {},
   "outputs": [],
   "source": [
    "#spark connection and import all required packages \n",
    "from pyspark.sql import SparkSession,types"
   ]
  },
  {
   "cell_type": "code",
   "execution_count": 58,
   "id": "ec9e2f8f",
   "metadata": {},
   "outputs": [],
   "source": [
    "spark = SparkSession.builder.master(\"local\").appName(\"Create DataFrame\").getOrCreate()"
   ]
  },
  {
   "cell_type": "code",
   "execution_count": 48,
   "id": "5db5d162",
   "metadata": {},
   "outputs": [],
   "source": [
    "sc = spark.sparkContext"
   ]
  },
  {
   "cell_type": "code",
   "execution_count": 62,
   "id": "619b1de0",
   "metadata": {},
   "outputs": [],
   "source": [
    "from datetime import datetime, date\n",
    "rdd = spark.sparkContext.parallelize([\n",
    "    (1, 2., 'su1', date(2001, 4, 1), datetime(2001, 4, 1, 12, 0)),\n",
    "    (2, 3., 'su3', date(2002, 6, 2), datetime(2002, 6, 2, 12, 0)),\n",
    "    (3, 4., 'su5', date(2003, 3, 3), datetime(2003, 3, 3, 12, 0))\n",
    "])"
   ]
  },
  {
   "cell_type": "code",
   "execution_count": 63,
   "id": "dfdf6867",
   "metadata": {},
   "outputs": [
    {
     "data": {
      "text/plain": [
       "DataFrame[a: bigint, b: double, c: string, d: date, e: timestamp]"
      ]
     },
     "execution_count": 63,
     "metadata": {},
     "output_type": "execute_result"
    }
   ],
   "source": [
    "df = spark.createDataFrame(rdd, schema=['a', 'b', 'c', 'd', 'e'])\n",
    "df"
   ]
  },
  {
   "cell_type": "code",
   "execution_count": 64,
   "id": "180477b5",
   "metadata": {},
   "outputs": [
    {
     "name": "stdout",
     "output_type": "stream",
     "text": [
      "+---+---+---+----------+-------------------+\n",
      "|  a|  b|  c|         d|                  e|\n",
      "+---+---+---+----------+-------------------+\n",
      "|  1|2.0|su1|2001-04-01|2001-04-01 12:00:00|\n",
      "|  2|3.0|su3|2002-06-02|2002-06-02 12:00:00|\n",
      "|  3|4.0|su5|2003-03-03|2003-03-03 12:00:00|\n",
      "+---+---+---+----------+-------------------+\n",
      "\n"
     ]
    }
   ],
   "source": [
    "df.show()"
   ]
  }
 ],
 "metadata": {
  "kernelspec": {
   "display_name": "Python 3",
   "language": "python",
   "name": "python3"
  },
  "language_info": {
   "codemirror_mode": {
    "name": "ipython",
    "version": 3
   },
   "file_extension": ".py",
   "mimetype": "text/x-python",
   "name": "python",
   "nbconvert_exporter": "python",
   "pygments_lexer": "ipython3",
   "version": "3.8.5"
  }
 },
 "nbformat": 4,
 "nbformat_minor": 5
}
